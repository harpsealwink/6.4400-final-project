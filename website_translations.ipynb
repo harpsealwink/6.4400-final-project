{
 "cells": [
  {
   "cell_type": "code",
   "execution_count": 1,
   "id": "2007bb26",
   "metadata": {},
   "outputs": [],
   "source": [
    "import pandas as pd\n",
    "import json"
   ]
  },
  {
   "cell_type": "code",
   "execution_count": 2,
   "id": "6d8ccbf0",
   "metadata": {},
   "outputs": [],
   "source": [
    "translations = pd.read_csv(\"translations.csv\")"
   ]
  },
  {
   "cell_type": "code",
   "execution_count": 3,
   "id": "afad6e05",
   "metadata": {},
   "outputs": [
    {
     "data": {
      "text/html": [
       "<div>\n",
       "<style scoped>\n",
       "    .dataframe tbody tr th:only-of-type {\n",
       "        vertical-align: middle;\n",
       "    }\n",
       "\n",
       "    .dataframe tbody tr th {\n",
       "        vertical-align: top;\n",
       "    }\n",
       "\n",
       "    .dataframe thead th {\n",
       "        text-align: right;\n",
       "    }\n",
       "</style>\n",
       "<table border=\"1\" class=\"dataframe\">\n",
       "  <thead>\n",
       "    <tr style=\"text-align: right;\">\n",
       "      <th></th>\n",
       "      <th>Page</th>\n",
       "      <th>Component</th>\n",
       "      <th>Ref</th>\n",
       "      <th>English</th>\n",
       "      <th>Spanish</th>\n",
       "      <th>French</th>\n",
       "      <th>Hindi</th>\n",
       "    </tr>\n",
       "  </thead>\n",
       "  <tbody>\n",
       "    <tr>\n",
       "      <th>0</th>\n",
       "      <td>Article</td>\n",
       "      <td>NaN</td>\n",
       "      <td>about_the_author</td>\n",
       "      <td>About The Author</td>\n",
       "      <td>Sobre el Autor</td>\n",
       "      <td>A propos de l'auteur</td>\n",
       "      <td>लेखक के बारे में</td>\n",
       "    </tr>\n",
       "    <tr>\n",
       "      <th>1</th>\n",
       "      <td>Article</td>\n",
       "      <td>NaN</td>\n",
       "      <td>interview</td>\n",
       "      <td>Interview</td>\n",
       "      <td>Entrevista</td>\n",
       "      <td>Interview</td>\n",
       "      <td>साक्षात्कार</td>\n",
       "    </tr>\n",
       "    <tr>\n",
       "      <th>2</th>\n",
       "      <td>Article</td>\n",
       "      <td>NaN</td>\n",
       "      <td>by</td>\n",
       "      <td>By</td>\n",
       "      <td>Por</td>\n",
       "      <td>Par</td>\n",
       "      <td>द्वारा</td>\n",
       "    </tr>\n",
       "    <tr>\n",
       "      <th>3</th>\n",
       "      <td>Article</td>\n",
       "      <td>NaN</td>\n",
       "      <td>rate</td>\n",
       "      <td>Did you enjoy this article?</td>\n",
       "      <td>Disfrutaste este artículo?</td>\n",
       "      <td>Avez-vous apprécié cet article?</td>\n",
       "      <td>क्या आपको ये लेख अच्छा लगा?</td>\n",
       "    </tr>\n",
       "    <tr>\n",
       "      <th>4</th>\n",
       "      <td>Article</td>\n",
       "      <td>NaN</td>\n",
       "      <td>related</td>\n",
       "      <td>More on this topic...</td>\n",
       "      <td>Más sobre este tema ...</td>\n",
       "      <td>Plus sur ce sujet ...</td>\n",
       "      <td>इस विषय पर अधिक ...</td>\n",
       "    </tr>\n",
       "  </tbody>\n",
       "</table>\n",
       "</div>"
      ],
      "text/plain": [
       "      Page Component               Ref                      English  \\\n",
       "0  Article       NaN  about_the_author             About The Author   \n",
       "1  Article       NaN         interview                    Interview   \n",
       "2  Article       NaN                by                           By   \n",
       "3  Article       NaN              rate  Did you enjoy this article?   \n",
       "4  Article       NaN           related        More on this topic...   \n",
       "\n",
       "                      Spanish                           French  \\\n",
       "0              Sobre el Autor             A propos de l'auteur   \n",
       "1                  Entrevista                        Interview   \n",
       "2                         Por                              Par   \n",
       "3  Disfrutaste este artículo?  Avez-vous apprécié cet article?   \n",
       "4     Más sobre este tema ...            Plus sur ce sujet ...   \n",
       "\n",
       "                         Hindi  \n",
       "0             लेखक के बारे में  \n",
       "1                  साक्षात्कार  \n",
       "2                       द्वारा  \n",
       "3  क्या आपको ये लेख अच्छा लगा?  \n",
       "4          इस विषय पर अधिक ...  "
      ]
     },
     "execution_count": 3,
     "metadata": {},
     "output_type": "execute_result"
    }
   ],
   "source": [
    "translations.head()"
   ]
  },
  {
   "cell_type": "code",
   "execution_count": 4,
   "id": "35c800be",
   "metadata": {},
   "outputs": [
    {
     "name": "stdout",
     "output_type": "stream",
     "text": [
      "common.json\r\n"
     ]
    }
   ],
   "source": [
    "!ls \"sciteens/public/locales/en\""
   ]
  },
  {
   "cell_type": "code",
   "execution_count": null,
   "id": "7902fbe0",
   "metadata": {},
   "outputs": [],
   "source": []
  },
  {
   "cell_type": "code",
   "execution_count": 5,
   "id": "47b3dce4",
   "metadata": {},
   "outputs": [],
   "source": [
    "def slugify(text: str):\n",
    "    # https://www.peterbe.com/plog/fastest-python-function-to-slugify-a-string\n",
    "    REMOVE_CHARS = ['\"', '#', '$', '%', '&', '+', ',', '/', ':', \n",
    "                    ';', '=', '?', '@', '[', '\\\\', ']', '^', '`',\n",
    "                    '{', '|', '}', '~', \"'\"]\n",
    "    TRANSLATE_TABLE = {ord(char): u'_' for char in REMOVE_CHARS}\n",
    "\n",
    "    text = text.translate(TRANSLATE_TABLE)\n",
    "    text = u'_'.join(text.split())\n",
    "    text = ''.join([c.lower() for c in text])\n",
    "    return text"
   ]
  },
  {
   "cell_type": "code",
   "execution_count": 6,
   "id": "608ccb5f",
   "metadata": {},
   "outputs": [],
   "source": [
    "def save_translation(table: pd.DataFrame, language: str, path: str):\n",
    "    \n",
    "    # Use only the necessary columns, and turn page names into slugs\n",
    "    table = table[['Page', 'Ref', language]]\n",
    "    table['Page'] = table['Page'].apply(slugify)\n",
    "    \n",
    "    # Drop empty rows\n",
    "    table = table.dropna()    \n",
    "    \n",
    "    # Create dictionary for every page's translations\n",
    "    pages = {t: {} for t in table['Page'].unique()}\n",
    "    \n",
    "    # Save every row to dictionary\n",
    "    for _, data in table.iterrows():\n",
    "        try:\n",
    "            pages[data['Page']][data['Ref']] = data[language]\n",
    "        \n",
    "        except:\n",
    "            print(\"Couldn't append row: {}\".format(data))\n",
    "    \n",
    "    # Save file\n",
    "    with open(\"./{}/common.json\".format(path), 'w') as fp:\n",
    "        json.dump(pages, fp)"
   ]
  },
  {
   "cell_type": "code",
   "execution_count": 9,
   "id": "078d3a93",
   "metadata": {},
   "outputs": [
    {
     "ename": "KeyError",
     "evalue": "\"['Hindu'] not in index\"",
     "output_type": "error",
     "traceback": [
      "\u001b[0;31m---------------------------------------------------------------------------\u001b[0m",
      "\u001b[0;31mKeyError\u001b[0m                                  Traceback (most recent call last)",
      "Cell \u001b[0;32mIn [9], line 1\u001b[0m\n\u001b[0;32m----> 1\u001b[0m \u001b[43msave_translation\u001b[49m\u001b[43m(\u001b[49m\u001b[43mtranslations\u001b[49m\u001b[43m,\u001b[49m\u001b[43m \u001b[49m\u001b[38;5;124;43m\"\u001b[39;49m\u001b[38;5;124;43mHindu\u001b[39;49m\u001b[38;5;124;43m\"\u001b[39;49m\u001b[43m,\u001b[49m\u001b[43m \u001b[49m\u001b[38;5;124;43m\"\u001b[39;49m\u001b[38;5;124;43m/sciteens/public/locales/es\u001b[39;49m\u001b[38;5;124;43m\"\u001b[39;49m\u001b[43m)\u001b[49m\n",
      "Cell \u001b[0;32mIn [6], line 4\u001b[0m, in \u001b[0;36msave_translation\u001b[0;34m(table, language, path)\u001b[0m\n\u001b[1;32m      1\u001b[0m \u001b[38;5;28;01mdef\u001b[39;00m \u001b[38;5;21msave_translation\u001b[39m(table: pd\u001b[38;5;241m.\u001b[39mDataFrame, language: \u001b[38;5;28mstr\u001b[39m, path: \u001b[38;5;28mstr\u001b[39m):\n\u001b[1;32m      2\u001b[0m     \n\u001b[1;32m      3\u001b[0m     \u001b[38;5;66;03m# Use only the necessary columns, and turn page names into slugs\u001b[39;00m\n\u001b[0;32m----> 4\u001b[0m     table \u001b[38;5;241m=\u001b[39m \u001b[43mtable\u001b[49m\u001b[43m[\u001b[49m\u001b[43m[\u001b[49m\u001b[38;5;124;43m'\u001b[39;49m\u001b[38;5;124;43mPage\u001b[39;49m\u001b[38;5;124;43m'\u001b[39;49m\u001b[43m,\u001b[49m\u001b[43m \u001b[49m\u001b[38;5;124;43m'\u001b[39;49m\u001b[38;5;124;43mRef\u001b[39;49m\u001b[38;5;124;43m'\u001b[39;49m\u001b[43m,\u001b[49m\u001b[43m \u001b[49m\u001b[43mlanguage\u001b[49m\u001b[43m]\u001b[49m\u001b[43m]\u001b[49m\n\u001b[1;32m      5\u001b[0m     table[\u001b[38;5;124m'\u001b[39m\u001b[38;5;124mPage\u001b[39m\u001b[38;5;124m'\u001b[39m] \u001b[38;5;241m=\u001b[39m table[\u001b[38;5;124m'\u001b[39m\u001b[38;5;124mPage\u001b[39m\u001b[38;5;124m'\u001b[39m]\u001b[38;5;241m.\u001b[39mapply(slugify)\n\u001b[1;32m      7\u001b[0m     \u001b[38;5;66;03m# Drop empty rows\u001b[39;00m\n",
      "File \u001b[0;32m/Library/Frameworks/Python.framework/Versions/3.10/lib/python3.10/site-packages/pandas/core/frame.py:3810\u001b[0m, in \u001b[0;36mDataFrame.__getitem__\u001b[0;34m(self, key)\u001b[0m\n\u001b[1;32m   3808\u001b[0m     \u001b[38;5;28;01mif\u001b[39;00m is_iterator(key):\n\u001b[1;32m   3809\u001b[0m         key \u001b[38;5;241m=\u001b[39m \u001b[38;5;28mlist\u001b[39m(key)\n\u001b[0;32m-> 3810\u001b[0m     indexer \u001b[38;5;241m=\u001b[39m \u001b[38;5;28;43mself\u001b[39;49m\u001b[38;5;241;43m.\u001b[39;49m\u001b[43mcolumns\u001b[49m\u001b[38;5;241;43m.\u001b[39;49m\u001b[43m_get_indexer_strict\u001b[49m\u001b[43m(\u001b[49m\u001b[43mkey\u001b[49m\u001b[43m,\u001b[49m\u001b[43m \u001b[49m\u001b[38;5;124;43m\"\u001b[39;49m\u001b[38;5;124;43mcolumns\u001b[39;49m\u001b[38;5;124;43m\"\u001b[39;49m\u001b[43m)\u001b[49m[\u001b[38;5;241m1\u001b[39m]\n\u001b[1;32m   3812\u001b[0m \u001b[38;5;66;03m# take() does not accept boolean indexers\u001b[39;00m\n\u001b[1;32m   3813\u001b[0m \u001b[38;5;28;01mif\u001b[39;00m \u001b[38;5;28mgetattr\u001b[39m(indexer, \u001b[38;5;124m\"\u001b[39m\u001b[38;5;124mdtype\u001b[39m\u001b[38;5;124m\"\u001b[39m, \u001b[38;5;28;01mNone\u001b[39;00m) \u001b[38;5;241m==\u001b[39m \u001b[38;5;28mbool\u001b[39m:\n",
      "File \u001b[0;32m/Library/Frameworks/Python.framework/Versions/3.10/lib/python3.10/site-packages/pandas/core/indexes/base.py:6111\u001b[0m, in \u001b[0;36mIndex._get_indexer_strict\u001b[0;34m(self, key, axis_name)\u001b[0m\n\u001b[1;32m   6108\u001b[0m \u001b[38;5;28;01melse\u001b[39;00m:\n\u001b[1;32m   6109\u001b[0m     keyarr, indexer, new_indexer \u001b[38;5;241m=\u001b[39m \u001b[38;5;28mself\u001b[39m\u001b[38;5;241m.\u001b[39m_reindex_non_unique(keyarr)\n\u001b[0;32m-> 6111\u001b[0m \u001b[38;5;28;43mself\u001b[39;49m\u001b[38;5;241;43m.\u001b[39;49m\u001b[43m_raise_if_missing\u001b[49m\u001b[43m(\u001b[49m\u001b[43mkeyarr\u001b[49m\u001b[43m,\u001b[49m\u001b[43m \u001b[49m\u001b[43mindexer\u001b[49m\u001b[43m,\u001b[49m\u001b[43m \u001b[49m\u001b[43maxis_name\u001b[49m\u001b[43m)\u001b[49m\n\u001b[1;32m   6113\u001b[0m keyarr \u001b[38;5;241m=\u001b[39m \u001b[38;5;28mself\u001b[39m\u001b[38;5;241m.\u001b[39mtake(indexer)\n\u001b[1;32m   6114\u001b[0m \u001b[38;5;28;01mif\u001b[39;00m \u001b[38;5;28misinstance\u001b[39m(key, Index):\n\u001b[1;32m   6115\u001b[0m     \u001b[38;5;66;03m# GH 42790 - Preserve name from an Index\u001b[39;00m\n",
      "File \u001b[0;32m/Library/Frameworks/Python.framework/Versions/3.10/lib/python3.10/site-packages/pandas/core/indexes/base.py:6174\u001b[0m, in \u001b[0;36mIndex._raise_if_missing\u001b[0;34m(self, key, indexer, axis_name)\u001b[0m\n\u001b[1;32m   6171\u001b[0m     \u001b[38;5;28;01mraise\u001b[39;00m \u001b[38;5;167;01mKeyError\u001b[39;00m(\u001b[38;5;124mf\u001b[39m\u001b[38;5;124m\"\u001b[39m\u001b[38;5;124mNone of [\u001b[39m\u001b[38;5;132;01m{\u001b[39;00mkey\u001b[38;5;132;01m}\u001b[39;00m\u001b[38;5;124m] are in the [\u001b[39m\u001b[38;5;132;01m{\u001b[39;00maxis_name\u001b[38;5;132;01m}\u001b[39;00m\u001b[38;5;124m]\u001b[39m\u001b[38;5;124m\"\u001b[39m)\n\u001b[1;32m   6173\u001b[0m not_found \u001b[38;5;241m=\u001b[39m \u001b[38;5;28mlist\u001b[39m(ensure_index(key)[missing_mask\u001b[38;5;241m.\u001b[39mnonzero()[\u001b[38;5;241m0\u001b[39m]]\u001b[38;5;241m.\u001b[39munique())\n\u001b[0;32m-> 6174\u001b[0m \u001b[38;5;28;01mraise\u001b[39;00m \u001b[38;5;167;01mKeyError\u001b[39;00m(\u001b[38;5;124mf\u001b[39m\u001b[38;5;124m\"\u001b[39m\u001b[38;5;132;01m{\u001b[39;00mnot_found\u001b[38;5;132;01m}\u001b[39;00m\u001b[38;5;124m not in index\u001b[39m\u001b[38;5;124m\"\u001b[39m)\n",
      "\u001b[0;31mKeyError\u001b[0m: \"['Hindu'] not in index\""
     ]
    }
   ],
   "source": [
    "save_translation(translations, \"Hindu\", \"/sciteens/public/locales/es\")"
   ]
  },
  {
   "cell_type": "code",
   "execution_count": null,
   "id": "1b8feebf",
   "metadata": {},
   "outputs": [],
   "source": []
  }
 ],
 "metadata": {
  "kernelspec": {
   "display_name": "Python 3 (ipykernel)",
   "language": "python",
   "name": "python3"
  },
  "language_info": {
   "codemirror_mode": {
    "name": "ipython",
    "version": 3
   },
   "file_extension": ".py",
   "mimetype": "text/x-python",
   "name": "python",
   "nbconvert_exporter": "python",
   "pygments_lexer": "ipython3",
   "version": "3.10.8"
  }
 },
 "nbformat": 4,
 "nbformat_minor": 5
}
